{
 "cells": [
  {
   "cell_type": "markdown",
   "metadata": {},
   "source": [
    "## lets using the trapezoild Method, Simpson's rule and Romverg integration"
   ]
  },
  {
   "cell_type": "code",
   "execution_count": null,
   "metadata": {},
   "outputs": [],
   "source": [
    "%matplotlib inline\n",
    "import numpy as np\n",
    "import matplotlib.pyplot as plt "
   ]
  },
  {
   "cell_type": "markdown",
   "metadata": {},
   "source": [
    "## Function f(x) = e^-2x * cos(10x)"
   ]
  },
  {
   "cell_type": "code",
   "execution_count": null,
   "metadata": {},
   "outputs": [],
   "source": [
    "def func(x):\n",
    "    a= -2\n",
    "    b= 10\n",
    "    return (np.exp(a*x)) * (np.cos(b*x))"
   ]
  },
  {
   "cell_type": "markdown",
   "metadata": {},
   "source": [
    "### Define it's integral so we know the right answer"
   ]
  },
  {
   "cell_type": "code",
   "execution_count": null,
   "metadata": {},
   "outputs": [],
   "source": [
    "def func_integral(x):\n",
    "    a= -2\n",
    "    b= 10\n",
    "    return ( ((np.exp(a*x))/(104)) * ((a*np.cos(b*x))+(b*np.sin(b*x)) ) )\n",
    "\n",
    "#(-np.e**(-2*x)*(np.cos(10*x) - 5*np.sin(10*x))) / 52"
   ]
  },
  {
   "cell_type": "markdown",
   "metadata": {},
   "source": [
    "# Define the core of the trapezoid"
   ]
  },
  {
   "cell_type": "code",
   "execution_count": null,
   "metadata": {},
   "outputs": [],
   "source": [
    "def trapezoid_core(f,x,h):\n",
    "    return 0.5*h*(f(x+h) + f(x)) "
   ]
  },
  {
   "cell_type": "markdown",
   "metadata": {},
   "source": [
    "## Define a wrapper function to perform trapezoid method"
   ]
  },
  {
   "cell_type": "code",
   "execution_count": null,
   "metadata": {},
   "outputs": [],
   "source": [
    "def trapezoid_method(f, a, b, N):\n",
    "    #f= function to integrate\n",
    "    #a = lower limit of integration\n",
    "    #b = upper lim of integration\n",
    "    #N = number of function evaluations to use\n",
    "\n",
    "    \n",
    "    x=np.linspace(a, b, N)\n",
    "    h = x[1]-x[0]\n",
    "    \n",
    "    Fint = 0.0\n",
    "    \n",
    "    for i in range (0, len(x)-1, 1):\n",
    "        Fint += trapezoid_core(f, x[i], h)\n",
    "        #print (i, i+1, x[i], x[i]+h, x[-2], x[-1])\n",
    "    \n",
    "    #return the answer\n",
    "    return Fint"
   ]
  },
  {
   "cell_type": "markdown",
   "metadata": {},
   "source": [
    "## Define the core of the Simpson's Method"
   ]
  },
  {
   "cell_type": "code",
   "execution_count": null,
   "metadata": {},
   "outputs": [],
   "source": [
    "def simpson_core(f,x,h):\n",
    "    return h*(f(x) + 4*f(x+h)+ f(x+2*h))/3"
   ]
  },
  {
   "cell_type": "markdown",
   "metadata": {},
   "source": [
    "## Define a wrapper function to perform Simpson's Method"
   ]
  },
  {
   "cell_type": "code",
   "execution_count": null,
   "metadata": {},
   "outputs": [],
   "source": [
    "def simpson_method(f,a,b,N):\n",
    "    x = np.linspace(a,b,N)\n",
    "    h = x[1] - x[0]   #x[np.pi] - x[0]\n",
    "    \n",
    "    Fint = 0.0\n",
    "    \n",
    "    for i in range(0,len(x)-2,2):\n",
    "        Fint += simpson_core(f,x[i],h)\n",
    "        \n",
    "    if((N%2)==0):\n",
    "        Fint +=simpson_core(f,x[-2],0.5*h)\n",
    "    return Fint  "
   ]
  },
  {
   "cell_type": "markdown",
   "metadata": {},
   "source": [
    "## Define the Romberg integration core"
   ]
  },
  {
   "cell_type": "code",
   "execution_count": null,
   "metadata": {},
   "outputs": [],
   "source": [
    "def romberg_core(f,a,b,i):\n",
    "    h = b-a\n",
    "    \n",
    "    dh = h/2.**(i)\n",
    "    \n",
    "    K=h/2.0**(i+1)\n",
    "    \n",
    "    M=0.0\n",
    "    for j in range(2**i):\n",
    "        M += f(a + 0.5*dh + j*dh)\n",
    "        \n",
    "    return K*M"
   ]
  },
  {
   "cell_type": "code",
   "execution_count": null,
   "metadata": {},
   "outputs": [],
   "source": []
  },
  {
   "cell_type": "markdown",
   "metadata": {},
   "source": [
    "## Define a wrapper function to perform Romberg Integration"
   ]
  },
  {
   "cell_type": "code",
   "execution_count": null,
   "metadata": {},
   "outputs": [],
   "source": [
    "def romberg_integration(f,a,b,tol):\n",
    "    i=0\n",
    "    imax = 1000\n",
    "    \n",
    "    delta = 100.0*np.fabs(tol)\n",
    "    \n",
    "    I = np.zeros(imax,dtype =float)\n",
    "    \n",
    "    I[0] = 0.5*(b-a)*(f(a) + f(b)) \n",
    "    \n",
    "    i+=1\n",
    "    \n",
    "    while(delta>tol):\n",
    "        I[i]=0.5*I[i-1] + romberg_core(f,a,b,i)\n",
    "        \n",
    "        delta=np.fabs( (I[i]-I[i-1])/I[i])\n",
    "        \n",
    "        print(i,I[i],I[i-1],delta)\n",
    "        \n",
    "        if(delta>tol):\n",
    "            #iterate\n",
    "            i+=1\n",
    "            \n",
    "            #if maximum iterations reached\n",
    "            if(i>imax):\n",
    "                print(\"Max interations reached.\")\n",
    "                raise StopIteration('Stop iterations after ',i)\n",
    "                \n",
    "    return I[i]\n"
   ]
  },
  {
   "cell_type": "markdown",
   "metadata": {},
   "source": [
    "## Find the answer"
   ]
  },
  {
   "cell_type": "code",
   "execution_count": null,
   "metadata": {},
   "outputs": [],
   "source": [
    "Answer = func_integral(np.pi)-func_integral(0)\n",
    "tolerance = 1.0e-6\n",
    "print(\"Answer\")\n",
    "print(Answer)"
   ]
  },
  {
   "cell_type": "code",
   "execution_count": null,
   "metadata": {},
   "outputs": [],
   "source": [
    "print(\"Romberg\")\n",
    "RI = romberg_integration(func,0,np.pi,tolerance)\n",
    "print(RI,(RI-Answer)/Answer,tolerance)"
   ]
  },
  {
   "cell_type": "code",
   "execution_count": null,
   "metadata": {},
   "outputs": [],
   "source": [
    "print(\"Trapezoid\")\n",
    "print(trapezoid_method(func, 0, np.pi, 100))\n",
    "print('Number of iterations:')\n",
    "for i in range(10, 2000, 1):\n",
    "    iterations = trapezoid_method(func, 0, np.pi, i)\n",
    "    #print(np.abs(u-Answer))\n",
    "    if (np.abs(iterations-Answer)) <= 1e-6:\n",
    "        print(i)\n",
    "        break "
   ]
  },
  {
   "cell_type": "code",
   "execution_count": null,
   "metadata": {},
   "outputs": [],
   "source": [
    "print(\"Simpson's Method\")\n",
    "print(simpson_method(func,0,np.pi,100))\n",
    "print('Number of iterations:')\n",
    "for i in range(10, 1000, 1):\n",
    "    iterations = simpson_method(func, 0, np.pi, i)\n",
    "    #print(np.abs(u-Answer))\n",
    "    if (np.abs(iterations-Answer)) <= 1e-6:\n",
    "        print(i)\n",
    "        break "
   ]
  },
  {
   "cell_type": "code",
   "execution_count": null,
   "metadata": {},
   "outputs": [],
   "source": []
  }
 ],
 "metadata": {
  "kernelspec": {
   "display_name": "Python 3",
   "language": "python",
   "name": "python3"
  },
  "language_info": {
   "codemirror_mode": {
    "name": "ipython",
    "version": 3
   },
   "file_extension": ".py",
   "mimetype": "text/x-python",
   "name": "python",
   "nbconvert_exporter": "python",
   "pygments_lexer": "ipython3",
   "version": "3.6.5"
  }
 },
 "nbformat": 4,
 "nbformat_minor": 2
}
